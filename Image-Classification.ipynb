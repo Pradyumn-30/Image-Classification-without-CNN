{
 "cells": [
  {
   "cell_type": "code",
   "execution_count": 1,
   "metadata": {},
   "outputs": [],
   "source": [
    "## Importing necessary packages\n",
    "import pandas as pd\n",
    "import numpy as np"
   ]
  },
  {
   "cell_type": "markdown",
   "metadata": {},
   "source": [
    "## `Impoting data`"
   ]
  },
  {
   "cell_type": "code",
   "execution_count": 2,
   "metadata": {},
   "outputs": [],
   "source": [
    "data = pd.read_csv('Extracted-Features.csv')"
   ]
  },
  {
   "cell_type": "code",
   "execution_count": 3,
   "metadata": {},
   "outputs": [
    {
     "data": {
      "text/plain": [
       "(330, 27)"
      ]
     },
     "execution_count": 3,
     "metadata": {},
     "output_type": "execute_result"
    }
   ],
   "source": [
    "data.shape\n",
    "\n",
    "## dataset has 27 features and 330 observations"
   ]
  },
  {
   "cell_type": "code",
   "execution_count": 4,
   "metadata": {},
   "outputs": [
    {
     "data": {
      "text/plain": [
       "Index(['meanR', 'meanG', 'meanB', 'stdR', 'stdG', 'stdB', 'meanGray',\n",
       "       'stdGray', 'entropy', 'aboveR', 'belowR', 'aboveG', 'belowG', 'aboveB',\n",
       "       'belowB', 'FFT_avg', 'FFT_med', 'FFT_std', 'FFT_max', 'FFT_min', 'DCT',\n",
       "       'H_avg', 'H_med', 'H_std', 'H_max', 'H_min', 'label'],\n",
       "      dtype='object')"
      ]
     },
     "execution_count": 4,
     "metadata": {},
     "output_type": "execute_result"
    }
   ],
   "source": [
    "data.columns"
   ]
  },
  {
   "cell_type": "code",
   "execution_count": 5,
   "metadata": {},
   "outputs": [
    {
     "data": {
      "text/plain": [
       "1    101\n",
       "3    105\n",
       "2    124\n",
       "Name: label, dtype: int64"
      ]
     },
     "execution_count": 5,
     "metadata": {},
     "output_type": "execute_result"
    }
   ],
   "source": [
    "data.label.value_counts().sort_values()\n",
    "\n",
    "## There are 101 instances of class 1, 124 instances of class 2, and 105 instances of class 3"
   ]
  },
  {
   "cell_type": "markdown",
   "metadata": {},
   "source": [
    "## `Building Classfication Model`"
   ]
  },
  {
   "cell_type": "code",
   "execution_count": 6,
   "metadata": {},
   "outputs": [],
   "source": [
    "from sklearn.svm import SVC\n",
    "from sklearn.model_selection import train_test_split\n",
    "\n",
    "from sklearn.metrics import classification_report\n",
    "from sklearn.metrics import confusion_matrix"
   ]
  },
  {
   "cell_type": "code",
   "execution_count": 7,
   "metadata": {},
   "outputs": [],
   "source": [
    "## Applying Train-Test split\n",
    "\n",
    "## Train has 70% data and test has 30% data\n",
    "\n",
    "X = data.drop(['label'], axis = 1)\n",
    "y = data['label']\n",
    "\n",
    "X_train, X_test, y_train, y_test = train_test_split(X, y, random_state = 2021, test_size = 0.3)"
   ]
  },
  {
   "cell_type": "code",
   "execution_count": 8,
   "metadata": {},
   "outputs": [],
   "source": [
    "## Since SVC is a distance based measure we need to scale (normalize) the data\n",
    "\n",
    "from sklearn.preprocessing import MinMaxScaler\n",
    "\n",
    "scaler = MinMaxScaler(feature_range = (0,1))\n",
    "\n",
    "X_train_scaled = scaler.fit_transform(X_train)\n",
    "X_test_scaled = scaler.transform(X_test)"
   ]
  },
  {
   "cell_type": "code",
   "execution_count": 9,
   "metadata": {},
   "outputs": [],
   "source": [
    "## Building a simple linear support vector classifier\n",
    "\n",
    "clf = SVC(C = 100,class_weight = 'balanced', kernel = 'linear')\n",
    "\n",
    "clf = clf.fit(X_train_scaled, y_train)"
   ]
  },
  {
   "cell_type": "code",
   "execution_count": 10,
   "metadata": {},
   "outputs": [],
   "source": [
    "## Predicting on train and test data\n",
    "\n",
    "pred_train = clf.predict(X_train_scaled)\n",
    "\n",
    "pred_test = clf.predict(X_test_scaled)"
   ]
  },
  {
   "cell_type": "code",
   "execution_count": 11,
   "metadata": {},
   "outputs": [
    {
     "name": "stdout",
     "output_type": "stream",
     "text": [
      "              precision    recall  f1-score   support\n",
      "\n",
      "           1       0.89      0.90      0.89        70\n",
      "           2       1.00      1.00      1.00        83\n",
      "           3       0.91      0.90      0.90        78\n",
      "\n",
      "    accuracy                           0.94       231\n",
      "   macro avg       0.93      0.93      0.93       231\n",
      "weighted avg       0.94      0.94      0.94       231\n",
      "\n"
     ]
    }
   ],
   "source": [
    "## Classification report for the train data\n",
    "print(classification_report(pred_train, y_train))"
   ]
  },
  {
   "cell_type": "code",
   "execution_count": 12,
   "metadata": {},
   "outputs": [
    {
     "name": "stdout",
     "output_type": "stream",
     "text": [
      "              precision    recall  f1-score   support\n",
      "\n",
      "           1       0.77      0.96      0.85        24\n",
      "           2       1.00      1.00      1.00        41\n",
      "           3       0.96      0.79      0.87        34\n",
      "\n",
      "    accuracy                           0.92        99\n",
      "   macro avg       0.91      0.92      0.91        99\n",
      "weighted avg       0.93      0.92      0.92        99\n",
      "\n"
     ]
    }
   ],
   "source": [
    "## Classification report for the test data\n",
    "print(classification_report(pred_test, y_test))"
   ]
  },
  {
   "cell_type": "markdown",
   "metadata": {},
   "source": [
    "***The model performed very well in classifying the images***"
   ]
  }
 ],
 "metadata": {
  "kernelspec": {
   "display_name": "Python 3",
   "language": "python",
   "name": "python3"
  },
  "language_info": {
   "codemirror_mode": {
    "name": "ipython",
    "version": 3
   },
   "file_extension": ".py",
   "mimetype": "text/x-python",
   "name": "python",
   "nbconvert_exporter": "python",
   "pygments_lexer": "ipython3",
   "version": "3.8.5"
  }
 },
 "nbformat": 4,
 "nbformat_minor": 4
}
